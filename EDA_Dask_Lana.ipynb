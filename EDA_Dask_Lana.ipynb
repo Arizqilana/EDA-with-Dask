{
 "cells": [
  {
   "cell_type": "markdown",
   "metadata": {},
   "source": [
    "# Distributed Computing with Dask: Step-by-step Exercise\n",
    "\n",
    "Mahdi Farnaghi and Mahdi Khodadadzadeh\n",
    "\n",
    "October 2024\n",
    "\n",
    "\n",
    "**Objective: Explore distributed computing concepts using Dask for Exploratory Data Analysis (EDA).**"
   ]
  },
  {
   "cell_type": "markdown",
   "metadata": {},
   "source": [
    "## Dataset\n",
    "\n",
    "### Description \n",
    "\n",
    "In this exercise, we will be using the **Iris dataset**, one of the most well-known datasets in data science. The Iris dataset contains 150 samples from three species of Iris flowers: *Iris setosa*, *Iris virginica*, and *Iris versicolor*. Each sample has four features:\n",
    "\n",
    "1. **Sepal length** (in cm)\n",
    "2. **Sepal width** (in cm)\n",
    "3. **Petal length** (in cm)\n",
    "4. **Petal width** (in cm)\n",
    "\n",
    "These features describe the physical characteristics of the flowers, which are used to classify the species. The dataset is widely used for classification tasks and exploratory data analysis (EDA).\n",
    "\n",
    "---\n",
    "\n",
    "### Dataset Columns:\n",
    "\n",
    "- **sepal length**: Length of the sepal (in cm).\n",
    "- **sepal width**: Width of the sepal (in cm).\n",
    "- **petal length**: Length of the petal (in cm).\n",
    "- **petal width**: Width of the petal (in cm).\n",
    "- **species**: The species of the Iris flower (*Iris setosa*, *Iris virginica*, or *Iris versicolor*).\n",
    "\n",
    "---\n",
    "\n",
    "We will use this dataset to explore how Dask can be applied to distributed computing tasks for data analysis.\n",
    "\n",
    "---"
   ]
  },
  {
   "cell_type": "markdown",
   "metadata": {},
   "source": [
    "## Installation"
   ]
  },
  {
   "cell_type": "code",
   "execution_count": null,
   "metadata": {},
   "outputs": [],
   "source": [
    "!pip install -q \"dask[distributed]\" --upgrade \n",
    "!pip install -q dask[dataframe]\n",
    "!pip install -q scipy"
   ]
  },
  {
   "cell_type": "code",
   "execution_count": null,
   "metadata": {},
   "outputs": [],
   "source": []
  },
  {
   "cell_type": "markdown",
   "metadata": {},
   "source": [
    "## Step 1: Setting up the Dask Client\n",
    "\n",
    "Task: Initialize a Dask Client to enable parallel and distributed computing."
   ]
  },
  {
   "cell_type": "code",
   "execution_count": null,
   "metadata": {},
   "outputs": [],
   "source": [
    "from dask.distributed import Client\n",
    "client = Client()"
   ]
  },
  {
   "cell_type": "markdown",
   "metadata": {},
   "source": [
    "## Step 2: Load the dataset using Dask\n",
    "\n",
    "Task: Load the Iris dataset using `dask.read_csv`.\n",
    "\n",
    "Instruction: Use Dask's `read_csv` to load the Iris dataset. This is similar to how you use `pandas.read_csv`. Print the first 5 rows of the dataset."
   ]
  },
  {
   "cell_type": "code",
   "execution_count": 20,
   "metadata": {},
   "outputs": [],
   "source": []
  },
  {
   "cell_type": "markdown",
   "metadata": {},
   "source": [
    "## Step 3: Set the Index\n",
    "\n",
    "Task: Set the species as the index for the dataframe.\n",
    "\n",
    "Instruction: Change the index of the dataframe to 'species' and check how the dataset looks after the change."
   ]
  },
  {
   "cell_type": "code",
   "execution_count": null,
   "metadata": {},
   "outputs": [],
   "source": []
  },
  {
   "cell_type": "markdown",
   "metadata": {},
   "source": [
    "## Step 6: Getting Data Information\n",
    "\n",
    "Task: Retrieve information about the dataframe's columns and types.\n",
    "\n",
    "Instruction: Use .info() to explore the dataframe's structure."
   ]
  },
  {
   "cell_type": "code",
   "execution_count": null,
   "metadata": {},
   "outputs": [],
   "source": []
  },
  {
   "cell_type": "markdown",
   "metadata": {},
   "source": [
    "Task: Compute descriptive statistics for the dataset.\n",
    "\n",
    "Instruction: Use .describe() to calculate statistics for each column and ensure that you trigger computation with .compute()."
   ]
  },
  {
   "cell_type": "code",
   "execution_count": null,
   "metadata": {},
   "outputs": [],
   "source": []
  },
  {
   "cell_type": "markdown",
   "metadata": {},
   "source": [
    "## Step 4: Slicing the Dataset\n",
    "\n",
    "Task: Perform slicing on the dataframe to select specific rows.\n",
    "\n",
    "Instruction: Select a few rows from the dataframe and compute them using Dask's parallel computation."
   ]
  },
  {
   "cell_type": "code",
   "execution_count": null,
   "metadata": {},
   "outputs": [],
   "source": []
  },
  {
   "cell_type": "markdown",
   "metadata": {},
   "source": [
    "## Step 5: Mean, Quantiles, and Variance\n",
    "\n",
    "Task: Compute the mean, quantiles, and variance of the dataset.\n",
    "\n",
    "Instruction: Calculate the mean, quantiles, and variance of the dataset."
   ]
  },
  {
   "cell_type": "code",
   "execution_count": null,
   "metadata": {},
   "outputs": [],
   "source": []
  },
  {
   "cell_type": "markdown",
   "metadata": {},
   "source": [
    "## Step 6: Data Visualization\n",
    "\n",
    "Task: Visualize the distribution of columns using histograms and density plots.\n",
    "\n",
    "Instruction: Plot the histogram and kernel density estimate (KDE) for the 'sepal length' column."
   ]
  },
  {
   "cell_type": "code",
   "execution_count": null,
   "metadata": {},
   "outputs": [],
   "source": []
  },
  {
   "cell_type": "markdown",
   "metadata": {},
   "source": [
    "## Step 7: Pie and Bar Charts\n",
    "\n",
    "Task: Create a pie chart and bar chart based on species count.\n",
    "\n",
    "Instruction: Visualize the species distribution using a pie chart and a bar chart."
   ]
  },
  {
   "cell_type": "code",
   "execution_count": null,
   "metadata": {},
   "outputs": [],
   "source": []
  },
  {
   "cell_type": "markdown",
   "metadata": {},
   "source": [
    "## Step 8: Covariance and Correlation\n",
    "\n",
    "Task: Compute the covariance and correlation of the dataset.\n",
    "\n",
    "Instruction: Calculate and display the covariance and correlation between columns."
   ]
  },
  {
   "cell_type": "code",
   "execution_count": null,
   "metadata": {},
   "outputs": [],
   "source": []
  },
  {
   "cell_type": "markdown",
   "metadata": {},
   "source": [
    "## Step 8: Boxplot and Scatterplot\n",
    "\n",
    "Task: Create a boxplot and scatterplot of the dataset.\n",
    "\n",
    "Instruction: Generate a boxplot and scatterplot to explore the data distribution."
   ]
  },
  {
   "cell_type": "code",
   "execution_count": null,
   "metadata": {},
   "outputs": [],
   "source": []
  },
  {
   "cell_type": "markdown",
   "metadata": {},
   "source": [
    "## Step 9: Advanced Plots (3D and Hexbin)\n",
    "\n",
    "Task: Create advanced visualizations such as a 3D plot and hexbin plot.\n",
    "\n",
    "Instruction: Create a 3D scatter plot and a hexbin plot to visualize the relationship between petal length and width."
   ]
  },
  {
   "cell_type": "code",
   "execution_count": null,
   "metadata": {},
   "outputs": [],
   "source": []
  },
  {
   "cell_type": "markdown",
   "metadata": {},
   "source": [
    "## Final Step: Closing the Dask Client\n",
    "\n",
    "Task: Properly close the Dask Client when done.\n",
    "\n",
    "Instruction: Always remember to close the Dask Client when you're finished with the tasks."
   ]
  },
  {
   "cell_type": "code",
   "execution_count": 39,
   "metadata": {},
   "outputs": [],
   "source": []
  }
 ],
 "metadata": {
  "kernelspec": {
   "display_name": "env",
   "language": "python",
   "name": "python3"
  },
  "language_info": {
   "codemirror_mode": {
    "name": "ipython",
    "version": 3
   },
   "file_extension": ".py",
   "mimetype": "text/x-python",
   "name": "python",
   "nbconvert_exporter": "python",
   "pygments_lexer": "ipython3",
   "version": "3.12.6"
  }
 },
 "nbformat": 4,
 "nbformat_minor": 4
}
